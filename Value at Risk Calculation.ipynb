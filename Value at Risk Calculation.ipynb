{
  "nbformat": 4,
  "nbformat_minor": 0,
  "metadata": {
    "colab": {
      "provenance": []
    },
    "kernelspec": {
      "name": "python3",
      "display_name": "Python 3"
    },
    "language_info": {
      "name": "python"
    }
  },
  "cells": [
    {
      "cell_type": "code",
      "execution_count": 2,
      "metadata": {
        "id": "qqCbWF5mVF0s"
      },
      "outputs": [],
      "source": [
        "import pandas as pd\n",
        "import matplotlib.pyplot as plt"
      ]
    },
    {
      "cell_type": "code",
      "source": [
        "# Trade-level Value at Risk Calculation\n",
        "dataframe = pd.read_csv('/content/Portfolio.csv')\n",
        "\n",
        "def CalculateVaRByTrade(tradeId, conf_level):\n",
        "  for val in dataframe.values: \n",
        "    if val[0] == tradeId:\n",
        "      returns = val[1].split(';')\n",
        "      # Use map to iterate the returns one by one using float function\n",
        "      # map is memory effective in comparison to for loop (only one item is stored in the memory at a time)\n",
        "      # Turn map object into a list\n",
        "      returns = list(map(float, returns))\n",
        "      returns.sort()\n",
        "      plt.hist(returns, bins=30)\n",
        "      plt.xlabel('Returns')\n",
        "      plt.ylabel('Frequency')\n",
        "      returns = pd.DataFrame(returns)\n",
        "      VaR = returns.quantile(1 - conf_level)\n",
        "      plt.vlines(VaR[0], 0, 50, linestyles='dashed', color='red')\n",
        "      plt.show()\n",
        "      return round(VaR[0], 2)\n",
        "  return False\n",
        "  \n",
        "tradeId = input('Please input the Trade ID: ')\n",
        "conf_level = input('Please input the Confidence Level: (A number between 0.00 and 100) ')\n",
        "\n",
        "try:\n",
        "  conf_level = float(conf_level)\n",
        "except ValueError:\n",
        "  print('Error: The inserted Confidence Level value is not a number')\n",
        "\n",
        "if conf_level >= 0 and conf_level <= 100:\n",
        "  conf_level = conf_level / 100\n",
        "else: \n",
        "  raise Exception('Error: The inserted Confidence Level value is not between 0 and 100')\n",
        "\n",
        "\n",
        "TradeVaR = CalculateVaRByTrade(tradeId, conf_level)\n",
        "if TradeVaR:\n",
        "  print('The VaR for this trade is:' , TradeVaR)\n",
        "else: \n",
        "  raise Exception('Error: The Trade ID you inserted does not exist.')\n",
        "\n"
      ],
      "metadata": {
        "colab": {
          "base_uri": "https://localhost:8080/",
          "height": 331
        },
        "id": "cfkSsvttjsN-",
        "outputId": "91c15878-696f-4639-f803-2f8220edb965"
      },
      "execution_count": 3,
      "outputs": [
        {
          "name": "stdout",
          "output_type": "stream",
          "text": [
            "Please input the Trade ID: trade10\n",
            "Please input the Confidence Level: (A number between 0.00 and 100) 95\n"
          ]
        },
        {
          "output_type": "display_data",
          "data": {
            "text/plain": [
              "<Figure size 432x288 with 1 Axes>"
            ],
            "image/png": "[encoded data removed]"
          },
          "metadata": {
            "needs_background": "light"
          }
        },
        {
          "output_type": "stream",
          "name": "stdout",
          "text": [
            "The VaR for this trade is: -3853.23\n"
          ]
        }
      ]
    },
    {
      "cell_type": "code",
      "source": [
        "# Portfolio-level Value at Risk Calculation\n",
        "def CalculateVaRByPortfolio(conf_level):\n",
        "  VaR_portfolio = float()\n",
        "  VaR_dict = dict()\n",
        "  for i in range(len(dataframe.values)): \n",
        "    returns = dataframe.values[i][1].split(';')\n",
        "    returns = list(map(float, returns))\n",
        "    if i == 0:\n",
        "      VaR_dict = returns\n",
        "    else:\n",
        "      for j in range(len(returns)):\n",
        "        VaR_dict[j] += returns[j]\n",
        "  \n",
        "  VaR_dict.sort() \n",
        "  plt.hist(VaR_dict, bins=30)\n",
        "  plt.xlabel('Returns')\n",
        "  plt.ylabel('Frequency')\n",
        "      \n",
        "  returns = pd.DataFrame(VaR_dict) \n",
        "  VaR = returns.quantile(1 - conf_level)\n",
        "  \n",
        "  VaR_portfolio += VaR[0] \n",
        "  plt.vlines(VaR_portfolio, 0, 50, linestyles='dashed', color='red')\n",
        "  plt.show()\n",
        "  return round(VaR_portfolio, 2)\n",
        "\n",
        "\n",
        "conf_level = input('Please input the Confidence Level: (A number between 0.00 and 100) ')\n",
        "\n",
        "try:\n",
        "  conf_level = float(conf_level)\n",
        "except ValueError:\n",
        "  print('Error: The inserted Confidence Level value is not a number')\n",
        "\n",
        "if conf_level >= 0 and conf_level <= 100:\n",
        "  conf_level = conf_level / 100\n",
        "else: \n",
        "  raise Exception('Error: The inserted Confidence Level value is not between 0.00 and 100')\n",
        "\n",
        "PortfolioVaR = CalculateVaRByPortfolio(conf_level)\n",
        "print('The VaR for this portfolio is:' , PortfolioVaR)\n"
      ],
      "metadata": {
        "colab": {
          "base_uri": "https://localhost:8080/",
          "height": 314
        },
        "id": "vt7pMAm3tCDK",
        "outputId": "9444af1f-4a94-4020-adcd-3eea297fc8b1"
      },
      "execution_count": 4,
      "outputs": [
        {
          "name": "stdout",
          "output_type": "stream",
          "text": [
            "Please input the Confidence Level: (A number between 0.00 and 100) 95\n"
          ]
        },
        {
          "output_type": "display_data",
          "data": {
            "text/plain": [
              "<Figure size 432x288 with 1 Axes>"
            ],
            "image/png": "[encoded data removed]"
          },
          "metadata": {
            "needs_background": "light"
          }
        },
        {
          "output_type": "stream",
          "name": "stdout",
          "text": [
            "The VaR for this portfolio is: -23803.91\n"
          ]
        }
      ]
    }
  ]
}